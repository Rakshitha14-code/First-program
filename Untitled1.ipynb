{
  "nbformat": 4,
  "nbformat_minor": 0,
  "metadata": {
    "colab": {
      "provenance": [],
      "authorship_tag": "ABX9TyMRZT2P3L3EOaGtu7PAyNsa",
      "include_colab_link": true
    },
    "kernelspec": {
      "name": "python3",
      "display_name": "Python 3"
    },
    "language_info": {
      "name": "python"
    }
  },
  "cells": [
    {
      "cell_type": "markdown",
      "metadata": {
        "id": "view-in-github",
        "colab_type": "text"
      },
      "source": [
        "<a href=\"https://colab.research.google.com/github/Rakshitha14-code/First-program/blob/main/Untitled1.ipynb\" target=\"_parent\"><img src=\"https://colab.research.google.com/assets/colab-badge.svg\" alt=\"Open In Colab\"/></a>"
      ]
    },
    {
      "cell_type": "code",
      "execution_count": 1,
      "metadata": {
        "colab": {
          "base_uri": "https://localhost:8080/",
          "height": 141
        },
        "id": "jO40ju5UovcY",
        "outputId": "19c163bc-2c33-429d-b918-1be47c2406f7"
      },
      "outputs": [
        {
          "output_type": "error",
          "ename": "IndentationError",
          "evalue": "expected an indented block after 'while' statement on line 1 (<ipython-input-1-6af0c4c82393>, line 2)",
          "traceback": [
            "\u001b[0;36m  File \u001b[0;32m\"<ipython-input-1-6af0c4c82393>\"\u001b[0;36m, line \u001b[0;32m2\u001b[0m\n\u001b[0;31m    x = int(input(\"enter x\"))\u001b[0m\n\u001b[0m    ^\u001b[0m\n\u001b[0;31mIndentationError\u001b[0m\u001b[0;31m:\u001b[0m expected an indented block after 'while' statement on line 1\n"
          ]
        }
      ],
      "source": [
        "while True:\n",
        "x = int(input(\"enter x\"))\n",
        "y = int(input(\"enter y\"))\n",
        "c = input (\"enter op\")\n",
        "if c == \"+\":\n",
        "print (x+y)\n",
        "elif c == \"-\":\n",
        "print (x-y)\n",
        "else :\n",
        "print(\"noob\")"
      ]
    }
  ]
}